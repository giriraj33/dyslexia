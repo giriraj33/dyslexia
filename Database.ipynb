{
 "cells": [
  {
   "cell_type": "code",
   "execution_count": 124,
   "metadata": {},
   "outputs": [],
   "source": [
    "import MySQLdb\n",
    "import pandas as pd\n",
    "import numpy as np"
   ]
  },
  {
   "cell_type": "code",
   "execution_count": 152,
   "metadata": {},
   "outputs": [],
   "source": [
    "#from sklearn.svm import SVC\n",
    "#from sklearn.preprocessing import StandardScaler\n",
    "from sklearn.pipeline import Pipeline\n",
    "from sklearn.externals import joblib\n",
    "import warnings\n",
    "warnings.filterwarnings(\"ignore\")\n",
    "\n"
   ]
  },
  {
   "cell_type": "code",
   "execution_count": 125,
   "metadata": {},
   "outputs": [],
   "source": [
    "conn = MySQLdb.connect(\"localhost\",\"ryan\",\"mark50\",\"dyslexia\" )\n",
    "c = conn.cursor()"
   ]
  },
  {
   "cell_type": "code",
   "execution_count": 126,
   "metadata": {},
   "outputs": [],
   "source": [
    "# prime_key=1\n",
    "# c.execute('SELECT * FROM quiz WHERE pk = %s',(prime_key,))\n",
    "# dataquiz = c.fetchall()\n",
    "# dataquiz"
   ]
  },
  {
   "cell_type": "code",
   "execution_count": 127,
   "metadata": {},
   "outputs": [],
   "source": [
    "# c.execute('SELECT * FROM survey WHERE pk = %s',(prime_key,))\n",
    "# datasurvey = c.fetchall()\n",
    "# datasurvey"
   ]
  },
  {
   "cell_type": "code",
   "execution_count": 128,
   "metadata": {},
   "outputs": [],
   "source": [
    "dfquiz = pd.read_sql_query(\"select * from quiz;\", conn)\n",
    "dfsurvey = pd.read_sql_query(\"select * from survey;\", conn)"
   ]
  },
  {
   "cell_type": "code",
   "execution_count": null,
   "metadata": {},
   "outputs": [],
   "source": []
  },
  {
   "cell_type": "code",
   "execution_count": 129,
   "metadata": {},
   "outputs": [],
   "source": [
    "#df = dfsurvey.drop(['name'],axis=1)"
   ]
  },
  {
   "cell_type": "code",
   "execution_count": 130,
   "metadata": {},
   "outputs": [],
   "source": [
    "#df = df.add_prefix('Survey')"
   ]
  },
  {
   "cell_type": "code",
   "execution_count": 131,
   "metadata": {},
   "outputs": [],
   "source": [
    "result = pd.merge(dfquiz, dfsurvey, on=['pk', 'name'], suffixes=['_quiz', '_survey']) #this will have complete reuslt"
   ]
  },
  {
   "cell_type": "code",
   "execution_count": 132,
   "metadata": {},
   "outputs": [],
   "source": [
    "#user specific results in the session\n",
    "temp = result[result.pk == prime_key]"
   ]
  },
  {
   "cell_type": "code",
   "execution_count": 133,
   "metadata": {},
   "outputs": [
    {
     "data": {
      "text/html": [
       "<div>\n",
       "<style scoped>\n",
       "    .dataframe tbody tr th:only-of-type {\n",
       "        vertical-align: middle;\n",
       "    }\n",
       "\n",
       "    .dataframe tbody tr th {\n",
       "        vertical-align: top;\n",
       "    }\n",
       "\n",
       "    .dataframe thead th {\n",
       "        text-align: right;\n",
       "    }\n",
       "</style>\n",
       "<table border=\"1\" class=\"dataframe\">\n",
       "  <thead>\n",
       "    <tr style=\"text-align: right;\">\n",
       "      <th></th>\n",
       "      <th>pk</th>\n",
       "      <th>name</th>\n",
       "      <th>mone_quiz</th>\n",
       "      <th>mtwo_quiz</th>\n",
       "      <th>mthree_quiz</th>\n",
       "      <th>mfour_quiz</th>\n",
       "      <th>mfive_quiz</th>\n",
       "      <th>msix_quiz</th>\n",
       "      <th>mseven_quiz</th>\n",
       "      <th>meight_quiz</th>\n",
       "      <th>...</th>\n",
       "      <th>meleven</th>\n",
       "      <th>mtwelve</th>\n",
       "      <th>mthirteen</th>\n",
       "      <th>mfourteen</th>\n",
       "      <th>mfifteen</th>\n",
       "      <th>msixteen</th>\n",
       "      <th>mseventeen</th>\n",
       "      <th>meighteen</th>\n",
       "      <th>mnineteen</th>\n",
       "      <th>mtwenty</th>\n",
       "    </tr>\n",
       "  </thead>\n",
       "  <tbody>\n",
       "    <tr>\n",
       "      <th>0</th>\n",
       "      <td>1</td>\n",
       "      <td>aryan</td>\n",
       "      <td>4</td>\n",
       "      <td>0</td>\n",
       "      <td>0</td>\n",
       "      <td>4</td>\n",
       "      <td>0</td>\n",
       "      <td>0</td>\n",
       "      <td>0</td>\n",
       "      <td>0</td>\n",
       "      <td>...</td>\n",
       "      <td>0</td>\n",
       "      <td>0</td>\n",
       "      <td>0</td>\n",
       "      <td>0</td>\n",
       "      <td>0</td>\n",
       "      <td>0</td>\n",
       "      <td>0</td>\n",
       "      <td>0</td>\n",
       "      <td>0</td>\n",
       "      <td>0</td>\n",
       "    </tr>\n",
       "  </tbody>\n",
       "</table>\n",
       "<p>1 rows × 32 columns</p>\n",
       "</div>"
      ],
      "text/plain": [
       "   pk   name  mone_quiz  mtwo_quiz  mthree_quiz  mfour_quiz  mfive_quiz  \\\n",
       "0   1  aryan          4          0            0           4           0   \n",
       "\n",
       "   msix_quiz  mseven_quiz  meight_quiz  ...  meleven  mtwelve  mthirteen  \\\n",
       "0          0            0            0  ...        0        0          0   \n",
       "\n",
       "   mfourteen  mfifteen  msixteen  mseventeen  meighteen  mnineteen  mtwenty  \n",
       "0          0         0         0           0          0          0        0  \n",
       "\n",
       "[1 rows x 32 columns]"
      ]
     },
     "execution_count": 133,
     "metadata": {},
     "output_type": "execute_result"
    }
   ],
   "source": [
    "temp"
   ]
  },
  {
   "cell_type": "code",
   "execution_count": 134,
   "metadata": {},
   "outputs": [],
   "source": [
    "temp1 = temp.drop(['name','pk'],axis=1)"
   ]
  },
  {
   "cell_type": "code",
   "execution_count": 135,
   "metadata": {},
   "outputs": [
    {
     "data": {
      "text/html": [
       "<div>\n",
       "<style scoped>\n",
       "    .dataframe tbody tr th:only-of-type {\n",
       "        vertical-align: middle;\n",
       "    }\n",
       "\n",
       "    .dataframe tbody tr th {\n",
       "        vertical-align: top;\n",
       "    }\n",
       "\n",
       "    .dataframe thead th {\n",
       "        text-align: right;\n",
       "    }\n",
       "</style>\n",
       "<table border=\"1\" class=\"dataframe\">\n",
       "  <thead>\n",
       "    <tr style=\"text-align: right;\">\n",
       "      <th></th>\n",
       "      <th>mone_quiz</th>\n",
       "      <th>mtwo_quiz</th>\n",
       "      <th>mthree_quiz</th>\n",
       "      <th>mfour_quiz</th>\n",
       "      <th>mfive_quiz</th>\n",
       "      <th>msix_quiz</th>\n",
       "      <th>mseven_quiz</th>\n",
       "      <th>meight_quiz</th>\n",
       "      <th>mnine_quiz</th>\n",
       "      <th>mten_quiz</th>\n",
       "      <th>...</th>\n",
       "      <th>meleven</th>\n",
       "      <th>mtwelve</th>\n",
       "      <th>mthirteen</th>\n",
       "      <th>mfourteen</th>\n",
       "      <th>mfifteen</th>\n",
       "      <th>msixteen</th>\n",
       "      <th>mseventeen</th>\n",
       "      <th>meighteen</th>\n",
       "      <th>mnineteen</th>\n",
       "      <th>mtwenty</th>\n",
       "    </tr>\n",
       "  </thead>\n",
       "  <tbody>\n",
       "    <tr>\n",
       "      <th>0</th>\n",
       "      <td>4</td>\n",
       "      <td>0</td>\n",
       "      <td>0</td>\n",
       "      <td>4</td>\n",
       "      <td>0</td>\n",
       "      <td>0</td>\n",
       "      <td>0</td>\n",
       "      <td>0</td>\n",
       "      <td>0</td>\n",
       "      <td>4</td>\n",
       "      <td>...</td>\n",
       "      <td>0</td>\n",
       "      <td>0</td>\n",
       "      <td>0</td>\n",
       "      <td>0</td>\n",
       "      <td>0</td>\n",
       "      <td>0</td>\n",
       "      <td>0</td>\n",
       "      <td>0</td>\n",
       "      <td>0</td>\n",
       "      <td>0</td>\n",
       "    </tr>\n",
       "  </tbody>\n",
       "</table>\n",
       "<p>1 rows × 30 columns</p>\n",
       "</div>"
      ],
      "text/plain": [
       "   mone_quiz  mtwo_quiz  mthree_quiz  mfour_quiz  mfive_quiz  msix_quiz  \\\n",
       "0          4          0            0           4           0          0   \n",
       "\n",
       "   mseven_quiz  meight_quiz  mnine_quiz  mten_quiz  ...  meleven  mtwelve  \\\n",
       "0            0            0           0          4  ...        0        0   \n",
       "\n",
       "   mthirteen  mfourteen  mfifteen  msixteen  mseventeen  meighteen  mnineteen  \\\n",
       "0          0          0         0         0           0          0          0   \n",
       "\n",
       "   mtwenty  \n",
       "0        0  \n",
       "\n",
       "[1 rows x 30 columns]"
      ]
     },
     "execution_count": 135,
     "metadata": {},
     "output_type": "execute_result"
    }
   ],
   "source": [
    "temp1"
   ]
  },
  {
   "cell_type": "code",
   "execution_count": 136,
   "metadata": {},
   "outputs": [],
   "source": [
    "marksdf = pd.DataFrame(columns=(['Language_vocab', 'Memory', 'Speed','Visual_discrimination',\n",
    "       'Audio_Discrimination', 'Survey_Score']) )"
   ]
  },
  {
   "cell_type": "code",
   "execution_count": 137,
   "metadata": {},
   "outputs": [],
   "source": [
    "marksdf.Language_vocab = (temp1.mone_quiz+temp1.mtwo_quiz+temp1.mthree_quiz+temp1.mfour_quiz+temp1.mfive_quiz+temp1.msix_quiz+temp1.meight_quiz)/24"
   ]
  },
  {
   "cell_type": "code",
   "execution_count": 138,
   "metadata": {},
   "outputs": [],
   "source": [
    "marksdf.Visual_discrimination = (temp1.mone_quiz+temp1.mthree_quiz+temp1.mfour_quiz+temp1.msix_quiz)/16"
   ]
  },
  {
   "cell_type": "code",
   "execution_count": 139,
   "metadata": {},
   "outputs": [],
   "source": [
    "marksdf.Memory = (temp1.mtwo_quiz+temp1.mnine_quiz)/8"
   ]
  },
  {
   "cell_type": "code",
   "execution_count": 140,
   "metadata": {},
   "outputs": [],
   "source": [
    "marksdf.Audio_Discrimination = (temp1.mseven_quiz+temp1.mten_quiz)/8"
   ]
  },
  {
   "cell_type": "code",
   "execution_count": 141,
   "metadata": {},
   "outputs": [],
   "source": [
    "marksdf.Speed = np.random.uniform(0,1)"
   ]
  },
  {
   "cell_type": "code",
   "execution_count": 142,
   "metadata": {},
   "outputs": [
    {
     "data": {
      "text/html": [
       "<div>\n",
       "<style scoped>\n",
       "    .dataframe tbody tr th:only-of-type {\n",
       "        vertical-align: middle;\n",
       "    }\n",
       "\n",
       "    .dataframe tbody tr th {\n",
       "        vertical-align: top;\n",
       "    }\n",
       "\n",
       "    .dataframe thead th {\n",
       "        text-align: right;\n",
       "    }\n",
       "</style>\n",
       "<table border=\"1\" class=\"dataframe\">\n",
       "  <thead>\n",
       "    <tr style=\"text-align: right;\">\n",
       "      <th></th>\n",
       "      <th>Language_vocab</th>\n",
       "      <th>Memory</th>\n",
       "      <th>Speed</th>\n",
       "      <th>Visual_discrimination</th>\n",
       "      <th>Audio_Discrimination</th>\n",
       "      <th>Survey_Score</th>\n",
       "    </tr>\n",
       "  </thead>\n",
       "  <tbody>\n",
       "    <tr>\n",
       "      <th>0</th>\n",
       "      <td>0.333333</td>\n",
       "      <td>0.0</td>\n",
       "      <td>0.329637</td>\n",
       "      <td>0.5</td>\n",
       "      <td>0.5</td>\n",
       "      <td>NaN</td>\n",
       "    </tr>\n",
       "  </tbody>\n",
       "</table>\n",
       "</div>"
      ],
      "text/plain": [
       "   Language_vocab  Memory     Speed  Visual_discrimination  \\\n",
       "0        0.333333     0.0  0.329637                    0.5   \n",
       "\n",
       "   Audio_Discrimination Survey_Score  \n",
       "0                   0.5          NaN  "
      ]
     },
     "execution_count": 142,
     "metadata": {},
     "output_type": "execute_result"
    }
   ],
   "source": [
    "marksdf"
   ]
  },
  {
   "cell_type": "code",
   "execution_count": 143,
   "metadata": {},
   "outputs": [],
   "source": [
    "surevy_col =['mone_survey', 'mtwo_survey', 'mthree_survey', 'mfour_survey',\n",
    "       'mfive_survey', 'msix_survey', 'mseven_survey', 'meight_survey',\n",
    "       'mnine_survey', 'mten_survey', 'meleven', 'mtwelve', 'mthirteen',\n",
    "       'mfourteen', 'mfifteen', 'msixteen', 'mseventeen', 'meighteen',\n",
    "       'mnineteen', 'mtwenty']"
   ]
  },
  {
   "cell_type": "code",
   "execution_count": 144,
   "metadata": {},
   "outputs": [],
   "source": [
    "marksdf.Survey_Score = temp1[surevy_col].sum(axis=1)/80"
   ]
  },
  {
   "cell_type": "code",
   "execution_count": 145,
   "metadata": {},
   "outputs": [
    {
     "data": {
      "text/html": [
       "<div>\n",
       "<style scoped>\n",
       "    .dataframe tbody tr th:only-of-type {\n",
       "        vertical-align: middle;\n",
       "    }\n",
       "\n",
       "    .dataframe tbody tr th {\n",
       "        vertical-align: top;\n",
       "    }\n",
       "\n",
       "    .dataframe thead th {\n",
       "        text-align: right;\n",
       "    }\n",
       "</style>\n",
       "<table border=\"1\" class=\"dataframe\">\n",
       "  <thead>\n",
       "    <tr style=\"text-align: right;\">\n",
       "      <th></th>\n",
       "      <th>Language_vocab</th>\n",
       "      <th>Memory</th>\n",
       "      <th>Speed</th>\n",
       "      <th>Visual_discrimination</th>\n",
       "      <th>Audio_Discrimination</th>\n",
       "      <th>Survey_Score</th>\n",
       "    </tr>\n",
       "  </thead>\n",
       "  <tbody>\n",
       "    <tr>\n",
       "      <th>0</th>\n",
       "      <td>0.333333</td>\n",
       "      <td>0.0</td>\n",
       "      <td>0.329637</td>\n",
       "      <td>0.5</td>\n",
       "      <td>0.5</td>\n",
       "      <td>0.0</td>\n",
       "    </tr>\n",
       "  </tbody>\n",
       "</table>\n",
       "</div>"
      ],
      "text/plain": [
       "   Language_vocab  Memory     Speed  Visual_discrimination  \\\n",
       "0        0.333333     0.0  0.329637                    0.5   \n",
       "\n",
       "   Audio_Discrimination  Survey_Score  \n",
       "0                   0.5           0.0  "
      ]
     },
     "execution_count": 145,
     "metadata": {},
     "output_type": "execute_result"
    }
   ],
   "source": [
    "marksdf"
   ]
  },
  {
   "cell_type": "code",
   "execution_count": 146,
   "metadata": {},
   "outputs": [],
   "source": [
    "def model(data):\n",
    "    print(\"loading model\")\n",
    "    pipeline = joblib.load('transform_predict.joblib')\n",
    "    \n",
    "    print('Done')\n",
    "    \n",
    "    predictions = pipeline.predict(data)\n",
    "    \n",
    "    return predictions[0] "
   ]
  },
  {
   "cell_type": "code",
   "execution_count": 151,
   "metadata": {},
   "outputs": [
    {
     "name": "stdout",
     "output_type": "stream",
     "text": [
      "loading model\n",
      "Done\n"
     ]
    },
    {
     "data": {
      "text/plain": [
       "1.0"
      ]
     },
     "execution_count": 151,
     "metadata": {},
     "output_type": "execute_result"
    }
   ],
   "source": [
    "model(marksdf)"
   ]
  }
 ],
 "metadata": {
  "kernelspec": {
   "display_name": "Python 3",
   "language": "python",
   "name": "python3"
  },
  "language_info": {
   "codemirror_mode": {
    "name": "ipython",
    "version": 3
   },
   "file_extension": ".py",
   "mimetype": "text/x-python",
   "name": "python",
   "nbconvert_exporter": "python",
   "pygments_lexer": "ipython3",
   "version": "3.12.0"
  }
 },
 "nbformat": 4,
 "nbformat_minor": 4
}
